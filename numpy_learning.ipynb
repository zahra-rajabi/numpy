{
  "cells": [
    {
      "cell_type": "markdown",
      "metadata": {
        "id": "IiknU2ym8HBS"
      },
      "source": [
        "# **Numpy learning Notebook**"
      ]
    },
    {
      "cell_type": "markdown",
      "metadata": {
        "id": "uI1-ik9k_zw9"
      },
      "source": [
        "# Array Cration"
      ]
    },
    {
      "cell_type": "code",
      "execution_count": null,
      "metadata": {
        "id": "X38qNnIG3ntv"
      },
      "outputs": [],
      "source": [
        "import numpy as np"
      ]
    },
    {
      "cell_type": "code",
      "execution_count": null,
      "metadata": {
        "colab": {
          "base_uri": "https://localhost:8080/"
        },
        "id": "EmyupA8C3t0h",
        "outputId": "ba568ed0-aee3-4ae8-c0dc-f62191dde32d"
      },
      "outputs": [
        {
          "name": "stdout",
          "output_type": "stream",
          "text": [
            "[1 2 3]\n"
          ]
        }
      ],
      "source": [
        "a = np.array([1 , 2 , 3])\n",
        "print(a)"
      ]
    },
    {
      "cell_type": "code",
      "execution_count": null,
      "metadata": {
        "colab": {
          "base_uri": "https://localhost:8080/"
        },
        "id": "KYeR7M_73_Fy",
        "outputId": "67660f6b-087d-4e4d-dac6-0a2fe655d75e"
      },
      "outputs": [
        {
          "data": {
            "text/plain": [
              "(3,)"
            ]
          },
          "execution_count": 16,
          "metadata": {},
          "output_type": "execute_result"
        }
      ],
      "source": [
        "a.shape"
      ]
    },
    {
      "cell_type": "code",
      "execution_count": null,
      "metadata": {
        "colab": {
          "base_uri": "https://localhost:8080/"
        },
        "id": "KCLXeUZb3_qt",
        "outputId": "d9cc8a93-525d-4da2-ef21-e4d891ffb459"
      },
      "outputs": [
        {
          "name": "stdout",
          "output_type": "stream",
          "text": [
            "[[1 2 3]\n",
            " [4 5 6]]\n"
          ]
        }
      ],
      "source": [
        "b = np.array([[1 , 2 , 3] , [4  , 5 , 6]])\n",
        "print(b)"
      ]
    },
    {
      "cell_type": "code",
      "execution_count": null,
      "metadata": {
        "colab": {
          "base_uri": "https://localhost:8080/"
        },
        "id": "Yg5LeIys4Div",
        "outputId": "30498d5e-90cd-45fa-ca75-a16523d31178"
      },
      "outputs": [
        {
          "data": {
            "text/plain": [
              "(2, 3)"
            ]
          },
          "execution_count": 18,
          "metadata": {},
          "output_type": "execute_result"
        }
      ],
      "source": [
        "b.shape"
      ]
    },
    {
      "cell_type": "code",
      "execution_count": null,
      "metadata": {
        "colab": {
          "base_uri": "https://localhost:8080/"
        },
        "id": "6AnraiVG4Eix",
        "outputId": "554f7229-2e31-407a-dcea-5131f9ec75ed"
      },
      "outputs": [
        {
          "name": "stdout",
          "output_type": "stream",
          "text": [
            "[[0. 0. 0.]\n",
            " [0. 0. 0.]]\n"
          ]
        }
      ],
      "source": [
        "c = np.zeros((2 , 3))\n",
        "print(c)"
      ]
    },
    {
      "cell_type": "code",
      "execution_count": null,
      "metadata": {
        "colab": {
          "base_uri": "https://localhost:8080/"
        },
        "id": "sFNLJhU54RUa",
        "outputId": "8be55e74-4dc6-4c8a-a1e7-03d2bda22566"
      },
      "outputs": [
        {
          "data": {
            "text/plain": [
              "(2, 3)"
            ]
          },
          "execution_count": 20,
          "metadata": {},
          "output_type": "execute_result"
        }
      ],
      "source": [
        "c.shape"
      ]
    },
    {
      "cell_type": "code",
      "execution_count": null,
      "metadata": {
        "colab": {
          "base_uri": "https://localhost:8080/"
        },
        "id": "13sx7uj64UNV",
        "outputId": "12e18c01-1b80-4638-ec04-0e01ec822c93"
      },
      "outputs": [
        {
          "name": "stdout",
          "output_type": "stream",
          "text": [
            "[[1. 1. 1.]\n",
            " [1. 1. 1.]]\n"
          ]
        }
      ],
      "source": [
        "d = np.ones((2 , 3))\n",
        "print(d)"
      ]
    },
    {
      "cell_type": "code",
      "execution_count": null,
      "metadata": {
        "colab": {
          "base_uri": "https://localhost:8080/"
        },
        "id": "UPNUVt6O4t_6",
        "outputId": "ffe6e395-f2d1-49fe-f657-d56c6c37df0f"
      },
      "outputs": [
        {
          "name": "stdout",
          "output_type": "stream",
          "text": [
            "[[7 7]\n",
            " [7 7]]\n"
          ]
        }
      ],
      "source": [
        "e = np.full((2 , 2) , 7)\n",
        "print(e)"
      ]
    },
    {
      "cell_type": "code",
      "execution_count": null,
      "metadata": {
        "colab": {
          "base_uri": "https://localhost:8080/"
        },
        "id": "rpBP8bRE5qYs",
        "outputId": "566322d2-13af-48ee-9982-cfd28394bd27"
      },
      "outputs": [
        {
          "name": "stdout",
          "output_type": "stream",
          "text": [
            "[0 1 2 3 4 5 6 7 8 9]\n"
          ]
        }
      ],
      "source": [
        "f = np.arange(0 , 10)\n",
        "print(f)"
      ]
    },
    {
      "cell_type": "code",
      "execution_count": null,
      "metadata": {
        "colab": {
          "base_uri": "https://localhost:8080/"
        },
        "id": "zbeh2cdH5_j1",
        "outputId": "6ce39e02-0ec5-4e99-a26c-8eb9c7e8f1ca"
      },
      "outputs": [
        {
          "name": "stdout",
          "output_type": "stream",
          "text": [
            "[0 2 4 6 8]\n"
          ]
        }
      ],
      "source": [
        "g = np.arange(0 , 10 , 2)\n",
        "print(g)"
      ]
    },
    {
      "cell_type": "code",
      "execution_count": null,
      "metadata": {
        "colab": {
          "base_uri": "https://localhost:8080/"
        },
        "id": "0EsDIHNj6JoM",
        "outputId": "ad8a5397-e418-442f-f039-53c0a89c0d3f"
      },
      "outputs": [
        {
          "name": "stdout",
          "output_type": "stream",
          "text": [
            "[ 0.   2.5  5.   7.5 10. ]\n"
          ]
        }
      ],
      "source": [
        "h = np.linspace(0 , 10 , 5)\n",
        "print(h)"
      ]
    },
    {
      "cell_type": "code",
      "execution_count": null,
      "metadata": {
        "colab": {
          "base_uri": "https://localhost:8080/"
        },
        "id": "Sv7HZtL96WwG",
        "outputId": "a7fbcfef-508c-4b33-f51a-7254a6d14228"
      },
      "outputs": [
        {
          "name": "stdout",
          "output_type": "stream",
          "text": [
            "[[0.76605571 0.32392086 0.31493384]\n",
            " [0.24953683 0.72800508 0.30162588]]\n"
          ]
        }
      ],
      "source": [
        "i = np.random.rand(2 , 3)\n",
        "print(i)"
      ]
    },
    {
      "cell_type": "code",
      "execution_count": null,
      "metadata": {
        "colab": {
          "base_uri": "https://localhost:8080/"
        },
        "id": "Ij8mLops60tW",
        "outputId": "c2e9d697-b805-4ebe-8ec8-1c9f709a2736"
      },
      "outputs": [
        {
          "name": "stdout",
          "output_type": "stream",
          "text": [
            "[[3 8 2 2]\n",
            " [8 3 4 3]]\n"
          ]
        }
      ],
      "source": [
        "j = np.random.randint(1 , 10 , size = (2 , 4))\n",
        "print(j)"
      ]
    },
    {
      "cell_type": "code",
      "execution_count": null,
      "metadata": {
        "colab": {
          "base_uri": "https://localhost:8080/"
        },
        "id": "NUI_Vhia694T",
        "outputId": "66383d69-6e4b-446c-b6e7-82bb51a679d2"
      },
      "outputs": [
        {
          "name": "stdout",
          "output_type": "stream",
          "text": [
            "float64\n",
            "[1 2 3]\n",
            "int64\n"
          ]
        }
      ],
      "source": [
        "k = np.array([1.5 , 2.5 , 3.5])\n",
        "print(k.dtype) # -> float64\n",
        "\n",
        "k = k.astype('int')\n",
        "print(k)\n",
        "print(k.dtype)"
      ]
    },
    {
      "cell_type": "code",
      "execution_count": null,
      "metadata": {
        "colab": {
          "base_uri": "https://localhost:8080/"
        },
        "id": "YJpPTObv_5Q8",
        "outputId": "2a033465-730b-481b-e32b-8392aa25a5fc"
      },
      "outputs": [
        {
          "name": "stdout",
          "output_type": "stream",
          "text": [
            "l:\n",
            " [[1. 0. 0. 0.]\n",
            " [0. 1. 0. 0.]\n",
            " [0. 0. 1. 0.]\n",
            " [0. 0. 0. 1.]]\n",
            "\n",
            " new l: \n",
            " [[0. 1. 0. 0.]\n",
            " [0. 0. 1. 0.]\n",
            " [0. 0. 0. 1.]\n",
            " [0. 0. 0. 0.]]\n"
          ]
        }
      ],
      "source": [
        "l  = np.eye(4)\n",
        "print(f'l:\\n {l}')\n",
        "\n",
        "l = np.eye(4 , k = 1)\n",
        "print(f'\\n new l: \\n {l}')"
      ]
    },
    {
      "cell_type": "code",
      "execution_count": null,
      "metadata": {
        "colab": {
          "base_uri": "https://localhost:8080/"
        },
        "id": "9yCzEWpzATnV",
        "outputId": "a4977975-c1b1-447d-f412-66afb309d4ee"
      },
      "outputs": [
        {
          "data": {
            "text/plain": [
              "array([[1., 0., 0.],\n",
              "       [0., 1., 0.],\n",
              "       [0., 0., 1.]])"
            ]
          },
          "execution_count": 30,
          "metadata": {},
          "output_type": "execute_result"
        }
      ],
      "source": [
        "m = np.identity(3)\n",
        "m"
      ]
    },
    {
      "cell_type": "markdown",
      "metadata": {
        "id": "fmJoXjGj7-dg"
      },
      "source": [
        "## exerice -> **Array Creation**"
      ]
    },
    {
      "cell_type": "markdown",
      "metadata": {
        "id": "nZGnxiPh8evH"
      },
      "source": [
        "### Create an array containing numbers between 10 and 50 with a step of 5.\n",
        "\n",
        "\n"
      ]
    },
    {
      "cell_type": "code",
      "execution_count": null,
      "metadata": {
        "colab": {
          "base_uri": "https://localhost:8080/"
        },
        "id": "xKulJiXP8fvY",
        "outputId": "354014f8-74ce-43a1-f3d0-0b4aae8db28b"
      },
      "outputs": [
        {
          "name": "stdout",
          "output_type": "stream",
          "text": [
            "[10 15 20 25 30 35 40 45]\n"
          ]
        }
      ],
      "source": [
        "arr = np.arange(10 , 50 , 5)\n",
        "\n",
        "print(arr)"
      ]
    },
    {
      "cell_type": "markdown",
      "metadata": {
        "id": "mvXfBBOS8-JM"
      },
      "source": [
        "### Create a 3x3 array of 8.\n"
      ]
    },
    {
      "cell_type": "code",
      "execution_count": null,
      "metadata": {
        "colab": {
          "base_uri": "https://localhost:8080/"
        },
        "id": "FbIqptVG9BoY",
        "outputId": "d8bf15ce-2258-4b15-b532-618a6cb2299a"
      },
      "outputs": [
        {
          "name": "stdout",
          "output_type": "stream",
          "text": [
            "[[8 8 8]\n",
            " [8 8 8]\n",
            " [8 8 8]]\n"
          ]
        }
      ],
      "source": [
        "arr2 = np.full((3 , 3) , 8)\n",
        "\n",
        "print(arr2)"
      ]
    },
    {
      "cell_type": "markdown",
      "metadata": {
        "id": "EvsQobYi9NM_"
      },
      "source": [
        "## Create a 5x5 array of random numbers between 0 and 100."
      ]
    },
    {
      "cell_type": "code",
      "execution_count": null,
      "metadata": {
        "colab": {
          "base_uri": "https://localhost:8080/"
        },
        "id": "oaXHHzr79Gtm",
        "outputId": "22e3f61a-9546-4f48-ec10-a8df4df4dbc5"
      },
      "outputs": [
        {
          "name": "stdout",
          "output_type": "stream",
          "text": [
            "[[70 34 33 73 70]\n",
            " [35  2 76 78 84]\n",
            " [93 86  7 35 99]\n",
            " [ 7 59  3 90 26]\n",
            " [51 98 67 22 74]]\n"
          ]
        }
      ],
      "source": [
        "arr3 = np.random.randint(0 , 100 , size=(5 , 5))\n",
        "print(arr3)"
      ]
    },
    {
      "cell_type": "code",
      "execution_count": null,
      "metadata": {
        "colab": {
          "base_uri": "https://localhost:8080/"
        },
        "id": "50FAZWiz9XZ_",
        "outputId": "2f2972d6-bd0d-468e-ec94-5807273bc9b0"
      },
      "outputs": [
        {
          "name": "stdout",
          "output_type": "stream",
          "text": [
            "[0.85189034 3.64307765 5.20565708]\n",
            "float64\n",
            "[0 3 5]\n",
            "int64\n"
          ]
        }
      ],
      "source": [
        "arr4 = np.random.rand(3 , ) * 10\n",
        "print(arr4)\n",
        "print(arr4.dtype) # -> float64\n",
        "\n",
        "arr4 = arr4.astype('int64')\n",
        "print(arr4)\n",
        "print(arr4.dtype)"
      ]
    },
    {
      "cell_type": "markdown",
      "metadata": {
        "id": "rin0kz---HCJ"
      },
      "source": [
        "## Create a 4×4 matrix with only the value 1 on the main diagonal.\n"
      ]
    },
    {
      "cell_type": "code",
      "execution_count": null,
      "metadata": {
        "colab": {
          "base_uri": "https://localhost:8080/"
        },
        "id": "DYsM-xlL9fS6",
        "outputId": "bfa27850-ee50-427c-f055-78be8f73fac8"
      },
      "outputs": [
        {
          "data": {
            "text/plain": [
              "array([[1., 0., 0., 0.],\n",
              "       [0., 1., 0., 0.],\n",
              "       [0., 0., 1., 0.],\n",
              "       [0., 0., 0., 1.]])"
            ]
          },
          "execution_count": 35,
          "metadata": {},
          "output_type": "execute_result"
        }
      ],
      "source": [
        "np.eye(4)"
      ]
    },
    {
      "cell_type": "markdown",
      "metadata": {
        "id": "U6KdLD3cB1cT"
      },
      "source": [
        "#  Indexing, Slicing, Shape Manipulation"
      ]
    },
    {
      "cell_type": "code",
      "execution_count": null,
      "metadata": {
        "colab": {
          "base_uri": "https://localhost:8080/"
        },
        "id": "f_GcN3KBB4JN",
        "outputId": "5f1d9d77-3e23-4f29-d8c1-cab8125b9b3c"
      },
      "outputs": [
        {
          "name": "stdout",
          "output_type": "stream",
          "text": [
            "10\n",
            "50\n",
            "[20 30 40]\n",
            "[10 30 50]\n"
          ]
        }
      ],
      "source": [
        "#1D array slicing\n",
        "a = np.array([10, 20, 30, 40, 50])\n",
        "print(a[0])\n",
        "print(a[-1])\n",
        "print(a[1:4])\n",
        "print(a[::2])"
      ]
    },
    {
      "cell_type": "code",
      "execution_count": null,
      "metadata": {
        "colab": {
          "base_uri": "https://localhost:8080/"
        },
        "id": "ko3LPGt1t6OT",
        "outputId": "508a53fd-0fd3-4b16-8fbd-70711d0684c8"
      },
      "outputs": [
        {
          "name": "stdout",
          "output_type": "stream",
          "text": [
            "6\n",
            "[4 5 6]\n",
            "[[2 3]\n",
            " [5 6]]\n"
          ]
        }
      ],
      "source": [
        "#2d array\n",
        "b = np.array([[1, 2, 3],\n",
        "              [4, 5, 6],\n",
        "              [7, 8, 9]])\n",
        "print(b[1,2])\n",
        "print(b[1])\n",
        "print(b[0:2 , 1:])"
      ]
    },
    {
      "cell_type": "markdown",
      "metadata": {
        "id": "IcekhzpnuxPN"
      },
      "source": [
        "### Copy vs View"
      ]
    },
    {
      "cell_type": "code",
      "execution_count": null,
      "metadata": {
        "colab": {
          "base_uri": "https://localhost:8080/"
        },
        "id": "OY9UgT3Fu1qB",
        "outputId": "9636aca0-21dd-4991-b13f-9a286d7cfc12"
      },
      "outputs": [
        {
          "name": "stdout",
          "output_type": "stream",
          "text": [
            "[1 2 3]\n",
            "[1 2]\n",
            "c: \n",
            " [999   2   3]\n",
            "d: \n",
            " [999   2]\n"
          ]
        }
      ],
      "source": [
        "#View\n",
        "c = np.array([1,2,3])\n",
        "print(c)\n",
        "d = c[0:2]\n",
        "print(d)\n",
        "d[0] = 999\n",
        "print(f'c: \\n {c}')\n",
        "print(f'd: \\n {d}')"
      ]
    },
    {
      "cell_type": "code",
      "execution_count": null,
      "metadata": {
        "colab": {
          "base_uri": "https://localhost:8080/"
        },
        "id": "cJaA1_avu8nh",
        "outputId": "a7825cdb-e854-4de0-81c4-c176ac212d35"
      },
      "outputs": [
        {
          "name": "stdout",
          "output_type": "stream",
          "text": [
            "[1 2 3]\n",
            "[1 2]\n",
            "e:\n",
            " [1 2 3]\n",
            "f:\n",
            " [999   2]\n"
          ]
        }
      ],
      "source": [
        "#Copy\n",
        "e = np.array([1 , 2 , 3])\n",
        "f = e[0:2].copy()\n",
        "print(e)\n",
        "print(f)\n",
        "f[0] = 999\n",
        "print(f'e:\\n {e}')\n",
        "print(f'f:\\n {f}')\n"
      ]
    },
    {
      "cell_type": "code",
      "execution_count": null,
      "metadata": {
        "colab": {
          "base_uri": "https://localhost:8080/"
        },
        "id": "G_E1GrzavuLg",
        "outputId": "fb28bd0c-9129-4631-b3d5-2392778382c0"
      },
      "outputs": [
        {
          "name": "stdout",
          "output_type": "stream",
          "text": [
            "[ 0  1  2  3  4  5  6  7  8  9 10 11]\n",
            "\n",
            "c[c>5] is:\n",
            " [ 6  7  8  9 10 11]\n",
            "\n",
            "c[mask] is\n",
            " [11]\n"
          ]
        }
      ],
      "source": [
        "#Masking\n",
        "c = np.arange(12)\n",
        "print(c)\n",
        "print()\n",
        "print('c[c>5] is:\\n' ,c[c>5])\n",
        "print()\n",
        "mask = c > 10\n",
        "print('c[mask] is\\n' , c[mask])"
      ]
    },
    {
      "cell_type": "code",
      "execution_count": null,
      "metadata": {
        "colab": {
          "base_uri": "https://localhost:8080/"
        },
        "id": "39L_AD6xIUSn",
        "outputId": "89ad1c76-5c8f-47ba-daac-7ede87ae176b"
      },
      "outputs": [
        {
          "name": "stdout",
          "output_type": "stream",
          "text": [
            "d is \n",
            "[ 0  1  2  3  4  5  6  7  8  9 10 11]\n",
            "\n",
            "e is \n",
            "[[ 0  1  2  3]\n",
            " [ 4  5  6  7]\n",
            " [ 8  9 10 11]]\n",
            "\n",
            "f is \n",
            "[[ 0  1  2  3  4  5]\n",
            " [ 6  7  8  9 10 11]]\n",
            "\n",
            "g is \n",
            "[[ 0  1  2]\n",
            " [ 3  4  5]\n",
            " [ 6  7  8]\n",
            " [ 9 10 11]]\n",
            "\n"
          ]
        }
      ],
      "source": [
        "#Reshaping\n",
        "d = np.arange(12)\n",
        "print(f'd is \\n{d}\\n')\n",
        "e = d.reshape(3 , 4)\n",
        "print(f'e is \\n{e}\\n')\n",
        "f = d.reshape(-1 , 6)\n",
        "print(f'f is \\n{f}\\n')\n",
        "g = d.reshape(4 , -1)\n",
        "print(f'g is \\n{g}\\n')"
      ]
    },
    {
      "cell_type": "code",
      "execution_count": null,
      "metadata": {
        "id": "M5GJ8hFtHBd_"
      },
      "outputs": [],
      "source": [
        "#Flatten vs Ravel\n",
        "m = np.array([[1, 2], [3, 4]])\n",
        "# print(m)\n",
        "n = m.flatten()\n",
        "# print(n)\n",
        "n[0] = 999\n",
        "# print(m)\n",
        "# print(n)\n",
        "o = m.ravel()\n",
        "o[0] = 1000\n",
        "# print(o)\n",
        "# print(m)\n",
        "m[0] = 123\n",
        "# print(o)\n",
        "# print(m)"
      ]
    },
    {
      "cell_type": "code",
      "execution_count": null,
      "metadata": {
        "colab": {
          "base_uri": "https://localhost:8080/"
        },
        "id": "n9jHXfJlH0Bk",
        "outputId": "8abb5e19-b048-4aa4-cb50-c058c5eb81ff"
      },
      "outputs": [
        {
          "name": "stdout",
          "output_type": "stream",
          "text": [
            "[[1 2]\n",
            " [3 4]]\n",
            "[[1 3]\n",
            " [2 4]]\n"
          ]
        }
      ],
      "source": [
        "#Transpose\n",
        "m = np.array([[1 , 2 ] , [3 , 4]])\n",
        "print(m)\n",
        "print(m.T)"
      ]
    },
    {
      "cell_type": "markdown",
      "metadata": {
        "id": "zALcT13BLo1K"
      },
      "source": [
        "## exerice -> **Indexing , Slicing , Shape Manipulation**"
      ]
    },
    {
      "cell_type": "markdown",
      "metadata": {
        "id": "bLsxfySKL5Bc"
      },
      "source": [
        "### Create a 3x5 matrix from np.arange(1, 16)"
      ]
    },
    {
      "cell_type": "code",
      "execution_count": null,
      "metadata": {
        "colab": {
          "base_uri": "https://localhost:8080/"
        },
        "id": "ftE5DUghLybe",
        "outputId": "c27b1361-6dce-4736-96b4-a77ed389bf05"
      },
      "outputs": [
        {
          "name": "stdout",
          "output_type": "stream",
          "text": [
            "[ 1  2  3  4  5  6  7  8  9 10 11 12 13 14 15]\n",
            "\n",
            "[[ 1  2  3  4  5]\n",
            " [ 6  7  8  9 10]\n",
            " [11 12 13 14 15]]\n"
          ]
        }
      ],
      "source": [
        "arr3 = np.arange(1 , 16)\n",
        "print(arr3)\n",
        "arr_new = arr3.reshape(3 , 5)\n",
        "print()\n",
        "print(arr_new)"
      ]
    },
    {
      "cell_type": "markdown",
      "metadata": {
        "id": "J5cDOsbjMJ8E"
      },
      "source": [
        "### Separate the second row and third column.\n",
        "\n"
      ]
    },
    {
      "cell_type": "code",
      "execution_count": null,
      "metadata": {
        "colab": {
          "base_uri": "https://localhost:8080/"
        },
        "id": "vOCiH1xpL9jM",
        "outputId": "549a78ae-f771-4848-dff8-9effb53451bd"
      },
      "outputs": [
        {
          "data": {
            "text/plain": [
              "np.int64(8)"
            ]
          },
          "execution_count": 45,
          "metadata": {},
          "output_type": "execute_result"
        }
      ],
      "source": [
        "arr_new[1,2]"
      ]
    },
    {
      "cell_type": "markdown",
      "metadata": {
        "id": "X73_t9XoMhH6"
      },
      "source": [
        "### Extract all the even numbers from that matrix."
      ]
    },
    {
      "cell_type": "code",
      "execution_count": null,
      "metadata": {
        "colab": {
          "base_uri": "https://localhost:8080/"
        },
        "id": "hMl1gF4fMh8W",
        "outputId": "0021e7e8-52dd-42b6-970d-4097275da799"
      },
      "outputs": [
        {
          "name": "stdout",
          "output_type": "stream",
          "text": [
            "[ 2  4  6  8 10 12 14]\n"
          ]
        }
      ],
      "source": [
        "arr_even = arr_new[arr_new % 2 == 0]\n",
        "print(arr_even)"
      ]
    },
    {
      "cell_type": "code",
      "execution_count": null,
      "metadata": {
        "colab": {
          "base_uri": "https://localhost:8080/"
        },
        "id": "EIyHwU8NMoWN",
        "outputId": "ef202468-df17-45b7-a842-b95f779f9d0f"
      },
      "outputs": [
        {
          "name": "stdout",
          "output_type": "stream",
          "text": [
            "[[ 1  2  3  4  5  6  7  8  9 10 11 12 13 14 15]]\n"
          ]
        }
      ],
      "source": [
        "arr_new = arr_new.reshape(1 , 15)\n",
        "print(arr_new)"
      ]
    },
    {
      "cell_type": "code",
      "execution_count": null,
      "metadata": {
        "colab": {
          "base_uri": "https://localhost:8080/"
        },
        "id": "N0832-7-M4ft",
        "outputId": "68ead6d8-0c23-4c56-a237-dc7b804c424c"
      },
      "outputs": [
        {
          "name": "stdout",
          "output_type": "stream",
          "text": [
            "[[1. 0. 0.]\n",
            " [0. 1. 0.]\n",
            " [0. 0. 1.]]\n",
            "\n",
            "[[1. 0. 0.]\n",
            " [0. 1. 0.]\n",
            " [0. 0. 1.]]\n"
          ]
        }
      ],
      "source": [
        "arr4 = np.eye(3)\n",
        "print(arr4)\n",
        "print()\n",
        "arr5 = np.identity(3)\n",
        "print(arr5)"
      ]
    },
    {
      "cell_type": "code",
      "execution_count": null,
      "metadata": {
        "colab": {
          "base_uri": "https://localhost:8080/"
        },
        "id": "QyPCr3pAM_38",
        "outputId": "3de88d08-3f56-4d99-9f22-189d77202b25"
      },
      "outputs": [
        {
          "name": "stdout",
          "output_type": "stream",
          "text": [
            "[12 15]\n"
          ]
        }
      ],
      "source": [
        "arr_masked = arr_new[(arr_new > 10) & (arr_new % 3 == 0)]\n",
        "print(arr_masked)"
      ]
    },
    {
      "cell_type": "markdown",
      "metadata": {
        "id": "YAFNUm-19rsA"
      },
      "source": [
        "### Vectorization and Broadcasting"
      ]
    },
    {
      "cell_type": "code",
      "execution_count": null,
      "metadata": {
        "colab": {
          "base_uri": "https://localhost:8080/"
        },
        "id": "XdqQVh2E9wx0",
        "outputId": "dff4fca2-f778-4477-e289-98f03039e8a2"
      },
      "outputs": [
        {
          "name": "stdout",
          "output_type": "stream",
          "text": [
            "[5 7 9]\n",
            "\n",
            " without numpy\n",
            "[np.int64(5), np.int64(7), np.int64(9)]\n"
          ]
        }
      ],
      "source": [
        "#Vectorized code\n",
        "A = np.array([1 , 2 , 3])\n",
        "B = np.array([4 , 5 , 6])\n",
        "\n",
        "print(A + B)\n",
        "\n",
        "print('\\n without numpy')\n",
        "result = []\n",
        "for i in range(len(A)):\n",
        "  result.append(A[i]+B[i])\n",
        "\n",
        "print(result)"
      ]
    },
    {
      "cell_type": "code",
      "execution_count": null,
      "metadata": {
        "colab": {
          "base_uri": "https://localhost:8080/"
        },
        "id": "Qi5fUqHK9008",
        "outputId": "feefb93f-8421-4575-c5c3-8a06dc39aff6"
      },
      "outputs": [
        {
          "data": {
            "text/plain": [
              "array([[9., 9., 9.],\n",
              "       [9., 9., 9.],\n",
              "       [9., 9., 9.]])"
            ]
          },
          "execution_count": 62,
          "metadata": {},
          "output_type": "execute_result"
        }
      ],
      "source": [
        "#Broadcasting\n",
        "A = np.ones((3 , 3))\n",
        "B = np.full((1 , 3) , 8)\n",
        "\n",
        "A + B"
      ]
    },
    {
      "cell_type": "code",
      "execution_count": null,
      "metadata": {
        "colab": {
          "base_uri": "https://localhost:8080/"
        },
        "id": "_FHNu33L-O3L",
        "outputId": "004e5abe-59ff-43e0-a62c-0a495019391d"
      },
      "outputs": [
        {
          "data": {
            "text/plain": [
              "array([[10., 10., 10.],\n",
              "       [10., 10., 10.],\n",
              "       [10., 10., 10.]])"
            ]
          },
          "execution_count": 66,
          "metadata": {},
          "output_type": "execute_result"
        }
      ],
      "source": [
        "C = 10\n",
        "A * C"
      ]
    },
    {
      "cell_type": "markdown",
      "metadata": {
        "id": "CuuxB2b2-tfu"
      },
      "source": [
        "## exerice -> **Vectorization and BroadCasting"
      ]
    },
    {
      "cell_type": "markdown",
      "metadata": {
        "id": "E4XNPw-q--_A"
      },
      "source": [
        "### Create an array of shape (3, 4) and add a row of shape (1, 4)"
      ]
    },
    {
      "cell_type": "code",
      "execution_count": null,
      "metadata": {
        "colab": {
          "base_uri": "https://localhost:8080/"
        },
        "id": "Si_n1zih-gQR",
        "outputId": "ffdb32fe-fe56-48eb-9e34-44766d1a7bf7"
      },
      "outputs": [
        {
          "name": "stdout",
          "output_type": "stream",
          "text": [
            "[[11. 11. 11. 11.]\n",
            " [11. 11. 11. 11.]\n",
            " [11. 11. 11. 11.]]\n"
          ]
        }
      ],
      "source": [
        "A = np.ones((3 , 4))\n",
        "B = np.full((1 , 4) , 10)\n",
        "\n",
        "print(A + B)"
      ]
    },
    {
      "cell_type": "markdown",
      "metadata": {
        "id": "5x_w-3ge_TY4"
      },
      "source": [
        "### Create a matrix of shape (4, 1) and add it with a 1x4 vector"
      ]
    },
    {
      "cell_type": "code",
      "execution_count": null,
      "metadata": {
        "colab": {
          "base_uri": "https://localhost:8080/"
        },
        "id": "OEcrlfxL_PRp",
        "outputId": "e00de78b-d1a1-47c6-9f45-2aa5b8a403db"
      },
      "outputs": [
        {
          "name": "stdout",
          "output_type": "stream",
          "text": [
            "A \n",
            " [[10 10 10 10]]\n",
            "\n",
            "B \n",
            " [[20]\n",
            " [20]\n",
            " [20]\n",
            " [20]]\n",
            "\n",
            "A + B:\n",
            "[[30 30 30 30]\n",
            " [30 30 30 30]\n",
            " [30 30 30 30]\n",
            " [30 30 30 30]]\n"
          ]
        }
      ],
      "source": [
        "A = np.full((1 , 4) , 10)\n",
        "B = np.full((4 , 1) , 20)\n",
        "\n",
        "print(f'A \\n {A}\\n')\n",
        "print(f'B \\n {B}\\n')\n",
        "print(f'A + B:')\n",
        "print(A + B)"
      ]
    },
    {
      "cell_type": "markdown",
      "metadata": {
        "id": "4xkl3i1w_0yy"
      },
      "source": [
        "### By broadcasting, scale a 5x5 matrix so that each row is twice the size of the previous row\n"
      ]
    },
    {
      "cell_type": "code",
      "execution_count": null,
      "metadata": {
        "colab": {
          "base_uri": "https://localhost:8080/"
        },
        "id": "XNcQKg7C_mKT",
        "outputId": "ad39cb6d-d6d7-43fe-91d1-40f529a5970c"
      },
      "outputs": [
        {
          "name": "stdout",
          "output_type": "stream",
          "text": [
            "[[  2   4   6   8  10]\n",
            " [  4   8  12  16  20]\n",
            " [  8  16  24  32  40]\n",
            " [ 16  32  48  64  80]\n",
            " [ 32  64  96 128 160]]\n"
          ]
        }
      ],
      "source": [
        "A = np.array([[2] , [4] , [8] , [16] , [32]])\n",
        "B = np.array([1 , 2 , 3 , 4 , 5])\n",
        "print(A * B)"
      ]
    },
    {
      "cell_type": "markdown",
      "metadata": {
        "id": "D2tCKXgjCGg0"
      },
      "source": [
        "### Create a random matrix and calculate the mean and z-score for each column"
      ]
    },
    {
      "cell_type": "code",
      "execution_count": null,
      "metadata": {
        "colab": {
          "base_uri": "https://localhost:8080/"
        },
        "id": "eVGg011qAa2O",
        "outputId": "745abdce-3d37-47b3-ba29-37159535daab"
      },
      "outputs": [
        {
          "name": "stdout",
          "output_type": "stream",
          "text": [
            "[[-0.33333333  0.63245553  0.81150267 -1.60356745]\n",
            " [-1.          1.26491106 -0.9918366   1.06904497]\n",
            " [ 1.66666667 -0.63245553 -0.9918366   0.        ]\n",
            " [-0.33333333 -1.26491106  1.17217053  0.53452248]]\n",
            "\n"
          ]
        },
        {
          "data": {
            "text/plain": [
              "array([[-0.33333333,  0.63245553,  0.81150267,  0.        ],\n",
              "       [ 0.        ,  0.        , -0.9918366 ,  0.        ],\n",
              "       [ 0.        , -0.63245553, -0.9918366 ,  0.        ],\n",
              "       [-0.33333333,  0.        ,  0.        ,  0.53452248]])"
            ]
          },
          "execution_count": 118,
          "metadata": {},
          "output_type": "execute_result"
        }
      ],
      "source": [
        "A = np.random.randint(1 , 10 , size=(4 , 4) )\n",
        "A_mean = np.mean(A , axis = 0)\n",
        "A_std = np.std(A , axis = 0)\n",
        "\n",
        "z = (A - A_mean) / A_std\n",
        "print(z)\n",
        "\n",
        "print()\n",
        "\n",
        "np.where((z < 1) & (z > -1) , z , 0)\n",
        "\n"
      ]
    },
    {
      "cell_type": "markdown",
      "metadata": {
        "id": "pfXOfQrIfdcs"
      },
      "source": [
        "## Matematical , Statistical and Logical Operation"
      ]
    },
    {
      "cell_type": "code",
      "execution_count": null,
      "metadata": {
        "colab": {
          "base_uri": "https://localhost:8080/"
        },
        "id": "twjCRMovfk8h",
        "outputId": "df0cceeb-7196-4765-bf42-39f94980df7d"
      },
      "outputs": [
        {
          "name": "stdout",
          "output_type": "stream",
          "text": [
            "10\n",
            "24\n",
            "[ 1  3  6 10]\n",
            "[1 1 1]\n",
            "[1.         1.41421356 1.73205081 2.        ]\n",
            "[ 2.71828183  7.3890561  20.08553692 54.59815003]\n"
          ]
        }
      ],
      "source": [
        "## Basic Matematical operation\n",
        "a = np.array([1 , 2 , 3  , 4])\n",
        "print(np.sum(a))\n",
        "print(np.prod(a))\n",
        "print(np.cumsum(a))\n",
        "print(np.diff(a))\n",
        "print(np.sqrt(a))\n",
        "print(np.exp(a))"
      ]
    },
    {
      "cell_type": "code",
      "execution_count": null,
      "metadata": {
        "colab": {
          "base_uri": "https://localhost:8080/"
        },
        "id": "Ze4CA7m_fuCO",
        "outputId": "249972ae-a3b0-4068-ff1b-b880d3b43318"
      },
      "outputs": [
        {
          "name": "stdout",
          "output_type": "stream",
          "text": [
            "3.5\n",
            "2.9166666666666665\n",
            "1.707825127659933\n",
            "1\n",
            "6\n",
            "0\n",
            "5\n"
          ]
        }
      ],
      "source": [
        "## Statistical\n",
        "b = np.array([[1, 2 , 3],[4 , 5, 6]])\n",
        "print(np.mean(b))\n",
        "print(np.var(b))\n",
        "print(np.std(b))\n",
        "print(np.min(b))\n",
        "print(np.max(b))\n",
        "print(np.argmin(b))\n",
        "print(np.argmax(b))"
      ]
    },
    {
      "cell_type": "code",
      "execution_count": null,
      "metadata": {
        "colab": {
          "base_uri": "https://localhost:8080/"
        },
        "id": "zy796r1vgGJ8",
        "outputId": "a72db7b1-26b1-48c4-f871-bb308d57a82e"
      },
      "outputs": [
        {
          "name": "stdout",
          "output_type": "stream",
          "text": [
            "True\n",
            "True\n",
            "False\n"
          ]
        }
      ],
      "source": [
        "##Logical\n",
        "c = np.array([1 , 2 , 3 , 4 , 5])\n",
        "print(np.all(c>0))\n",
        "print(np.any(c>4))\n",
        "print(np.all(c%2 == 0))\n"
      ]
    },
    {
      "cell_type": "code",
      "execution_count": null,
      "metadata": {
        "colab": {
          "base_uri": "https://localhost:8080/"
        },
        "id": "gkWLz5quggu9",
        "outputId": "b4ce442b-af90-4f7c-9362-324d23abcf63"
      },
      "outputs": [
        {
          "data": {
            "text/plain": [
              "array([1, 4])"
            ]
          },
          "execution_count": 14,
          "metadata": {},
          "output_type": "execute_result"
        }
      ],
      "source": [
        "np.min(b , axis = 1)"
      ]
    },
    {
      "cell_type": "code",
      "execution_count": null,
      "metadata": {
        "colab": {
          "base_uri": "https://localhost:8080/"
        },
        "id": "lWfMJmBygnlD",
        "outputId": "2e831256-7e9a-45ed-dcf9-0a165696b487"
      },
      "outputs": [
        {
          "data": {
            "text/plain": [
              "array([3, 6])"
            ]
          },
          "execution_count": 16,
          "metadata": {},
          "output_type": "execute_result"
        }
      ],
      "source": [
        "np.max(b , axis = 1)"
      ]
    },
    {
      "cell_type": "code",
      "execution_count": null,
      "metadata": {
        "colab": {
          "base_uri": "https://localhost:8080/"
        },
        "id": "op5dE2OBgrYj",
        "outputId": "4dca95a5-f47f-4d74-d772-84e93994cc0e"
      },
      "outputs": [
        {
          "data": {
            "text/plain": [
              "array([ True,  True,  True])"
            ]
          },
          "execution_count": 18,
          "metadata": {},
          "output_type": "execute_result"
        }
      ],
      "source": [
        "np.any(b%2 == 0 , axis = 0)"
      ]
    },
    {
      "cell_type": "markdown",
      "metadata": {
        "id": "TdxvtOA-hBHA"
      },
      "source": [
        "## exerice -> **Operations**"
      ]
    },
    {
      "cell_type": "markdown",
      "metadata": {
        "id": "dUa10Yh1hPBH"
      },
      "source": [
        "### Create a 3x4 matrix with numbers between 1 and 50"
      ]
    },
    {
      "cell_type": "code",
      "execution_count": null,
      "metadata": {
        "colab": {
          "base_uri": "https://localhost:8080/"
        },
        "id": "PuqGiGkwgyW8",
        "outputId": "981445da-2d9a-413c-91ad-e7c0ded9c98a"
      },
      "outputs": [
        {
          "name": "stdout",
          "output_type": "stream",
          "text": [
            "[[26 26  4 30]\n",
            " [32 24 44  4]\n",
            " [ 8 49 24 19]]\n"
          ]
        }
      ],
      "source": [
        "matrix = np.random.randint(1 , 50 , size = (3 , 4))\n",
        "print(matrix)"
      ]
    },
    {
      "cell_type": "markdown",
      "metadata": {
        "id": "d9G7YCL6hjNZ"
      },
      "source": [
        "### Calculate the sum, average, maximum and minimum for each row (axis=1)\n"
      ]
    },
    {
      "cell_type": "code",
      "execution_count": null,
      "metadata": {
        "colab": {
          "base_uri": "https://localhost:8080/"
        },
        "id": "kA6ZWcUUhdIt",
        "outputId": "a84dde96-c915-44ac-8840-4ce12de151ba"
      },
      "outputs": [
        {
          "name": "stdout",
          "output_type": "stream",
          "text": [
            "[ 86 104 100]\n"
          ]
        }
      ],
      "source": [
        "print(np.sum(matrix , axis = 1))"
      ]
    },
    {
      "cell_type": "code",
      "execution_count": null,
      "metadata": {
        "colab": {
          "base_uri": "https://localhost:8080/"
        },
        "id": "kIbXtHVAhnvM",
        "outputId": "6302cb02-d3d8-4b91-a26e-4a5be647e1f4"
      },
      "outputs": [
        {
          "name": "stdout",
          "output_type": "stream",
          "text": [
            "[21.5 26.  25. ]\n"
          ]
        }
      ],
      "source": [
        "print(np.mean(matrix , axis =1))"
      ]
    },
    {
      "cell_type": "code",
      "execution_count": null,
      "metadata": {
        "colab": {
          "base_uri": "https://localhost:8080/"
        },
        "id": "x060z5g2hv2R",
        "outputId": "a964b71e-033f-4c20-9677-a027289af5ff"
      },
      "outputs": [
        {
          "name": "stdout",
          "output_type": "stream",
          "text": [
            "[30 44 49]\n"
          ]
        }
      ],
      "source": [
        "print(np.max(matrix , axis = 1))"
      ]
    },
    {
      "cell_type": "code",
      "execution_count": null,
      "metadata": {
        "colab": {
          "base_uri": "https://localhost:8080/"
        },
        "id": "RrJ3i08Wh7Ag",
        "outputId": "1a0d9a6f-9137-49b5-a7ca-67aece898469"
      },
      "outputs": [
        {
          "name": "stdout",
          "output_type": "stream",
          "text": [
            "[4 4 8]\n"
          ]
        }
      ],
      "source": [
        "print(np.min(matrix , axis = 1))"
      ]
    },
    {
      "cell_type": "markdown",
      "metadata": {
        "id": "8Dr5uIh5iC_5"
      },
      "source": [
        "### Check which columns contain a number greater than 30 (np.any)"
      ]
    },
    {
      "cell_type": "code",
      "execution_count": null,
      "metadata": {
        "colab": {
          "base_uri": "https://localhost:8080/"
        },
        "id": "gUV7_0AHh_fY",
        "outputId": "5e13ed92-77cb-47b3-b304-18eba7f5a2a1"
      },
      "outputs": [
        {
          "data": {
            "text/plain": [
              "array([ True,  True,  True, False])"
            ]
          },
          "execution_count": 29,
          "metadata": {},
          "output_type": "execute_result"
        }
      ],
      "source": [
        "np.any(matrix > 30 , axis = 0)"
      ]
    },
    {
      "cell_type": "markdown",
      "metadata": {
        "id": "rDh9qxKKiNJR"
      },
      "source": [
        "### Check whether each row contains only even numbers? (np.all)"
      ]
    },
    {
      "cell_type": "code",
      "execution_count": null,
      "metadata": {
        "colab": {
          "base_uri": "https://localhost:8080/"
        },
        "id": "k02kileSiICF",
        "outputId": "6a748b3a-0f04-4ad1-9a08-d1d06e0daa2f"
      },
      "outputs": [
        {
          "data": {
            "text/plain": [
              "array([ True,  True, False])"
            ]
          },
          "execution_count": 30,
          "metadata": {},
          "output_type": "execute_result"
        }
      ],
      "source": [
        "np.all(matrix % 2== 0 , axis = 1)"
      ]
    },
    {
      "cell_type": "markdown",
      "metadata": {
        "id": "lt9vqn4PiYfh"
      },
      "source": [
        "### Use cumsum to get the cumulative sum of each column\n"
      ]
    },
    {
      "cell_type": "code",
      "execution_count": null,
      "metadata": {
        "colab": {
          "base_uri": "https://localhost:8080/"
        },
        "id": "XYkU3ASYiT6J",
        "outputId": "01566e36-0762-40dd-ee7a-4e9b996adbd9"
      },
      "outputs": [
        {
          "data": {
            "text/plain": [
              "array([[26, 26,  4, 30],\n",
              "       [58, 50, 48, 34],\n",
              "       [66, 99, 72, 53]])"
            ]
          },
          "execution_count": 31,
          "metadata": {},
          "output_type": "execute_result"
        }
      ],
      "source": [
        "np.cumsum(matrix, axis = 0)"
      ]
    },
    {
      "cell_type": "markdown",
      "metadata": {
        "id": "COGdznP2ihzS"
      },
      "source": [
        "### Use argmax to find the location of the largest value in each column"
      ]
    },
    {
      "cell_type": "code",
      "execution_count": null,
      "metadata": {
        "colab": {
          "base_uri": "https://localhost:8080/"
        },
        "id": "6t8FcoBmib-7",
        "outputId": "67afabbf-67ef-4666-bc62-5eee1ad4a2f6"
      },
      "outputs": [
        {
          "data": {
            "text/plain": [
              "array([1, 2, 1, 0])"
            ]
          },
          "execution_count": 34,
          "metadata": {},
          "output_type": "execute_result"
        }
      ],
      "source": [
        "np.argmax(matrix , axis = 0)"
      ]
    },
    {
      "cell_type": "markdown",
      "metadata": {
        "id": "k9E2RY8ZjwVw"
      },
      "source": [
        "## Joining & Splitting Arrays"
      ]
    },
    {
      "cell_type": "code",
      "execution_count": null,
      "metadata": {
        "colab": {
          "base_uri": "https://localhost:8080/"
        },
        "id": "ppbyUlgpiplA",
        "outputId": "71d1e08f-5f98-43c7-9eac-a8b118589167"
      },
      "outputs": [
        {
          "data": {
            "text/plain": [
              "array([[1, 2],\n",
              "       [3, 4],\n",
              "       [5, 6],\n",
              "       [7, 8]])"
            ]
          },
          "execution_count": 43,
          "metadata": {},
          "output_type": "execute_result"
        }
      ],
      "source": [
        "a = np.array([[1, 2], [3, 4]])\n",
        "b = np.array([[5, 6 ] , [7 , 8]])\n",
        "\n",
        "np.concatenate((a, b))"
      ]
    },
    {
      "cell_type": "code",
      "execution_count": null,
      "metadata": {
        "colab": {
          "base_uri": "https://localhost:8080/"
        },
        "id": "XRrlops1j0bw",
        "outputId": "79f321de-17ae-4145-851b-307fd42aa766"
      },
      "outputs": [
        {
          "data": {
            "text/plain": [
              "array([[1, 2, 5, 6],\n",
              "       [3, 4, 7, 8]])"
            ]
          },
          "execution_count": 48,
          "metadata": {},
          "output_type": "execute_result"
        }
      ],
      "source": [
        "a = np.array([[1, 2], [3, 4]])\n",
        "b = np.array([[5, 6] , [7 , 8]])\n",
        "\n",
        "np.concatenate((a , b) , axis = 1)"
      ]
    },
    {
      "cell_type": "code",
      "execution_count": null,
      "metadata": {
        "colab": {
          "base_uri": "https://localhost:8080/"
        },
        "id": "lBcIhu4ZnD-u",
        "outputId": "284ce7b3-db60-49f2-8754-70914866809a"
      },
      "outputs": [
        {
          "name": "stdout",
          "output_type": "stream",
          "text": [
            "[[1 2]\n",
            " [3 4]]\n",
            "[3 4 1 2]\n"
          ]
        }
      ],
      "source": [
        "x = np.array([1, 2])\n",
        "y = np.array([3, 4])\n",
        "\n",
        "\n",
        "print(np.vstack((x, y)))\n",
        "\n",
        "\n",
        "print(np.hstack((y , x)))"
      ]
    },
    {
      "cell_type": "code",
      "execution_count": null,
      "metadata": {
        "colab": {
          "base_uri": "https://localhost:8080/"
        },
        "id": "96hJjAyon-z-",
        "outputId": "bda685de-2232-4ed2-b38a-4bc256e6efaa"
      },
      "outputs": [
        {
          "name": "stdout",
          "output_type": "stream",
          "text": [
            "[[1 3]\n",
            " [2 4]]\n",
            "[[1 2]\n",
            " [3 4]]\n"
          ]
        }
      ],
      "source": [
        "a = np.array([1, 2])\n",
        "b = np.array([3, 4])\n",
        "\n",
        "\n",
        "print(np.stack((a , b) , axis = 1))\n",
        "\n",
        "print(np.stack((a , b) , axis  = 0))"
      ]
    },
    {
      "cell_type": "code",
      "execution_count": null,
      "metadata": {
        "colab": {
          "base_uri": "https://localhost:8080/"
        },
        "id": "uYCfGyOdoK1J",
        "outputId": "d39e8ff6-4ab6-4bd5-8b82-85ddc6fd4f50"
      },
      "outputs": [
        {
          "name": "stdout",
          "output_type": "stream",
          "text": [
            "[array([10]), array([20]), array([30]), array([40]), array([50]), array([60]), array([70])]\n",
            "[array([10, 20]), array([30, 40]), array([50, 60]), array([70])]\n"
          ]
        }
      ],
      "source": [
        "z = np.array([10, 20, 30, 40, 50, 60, 70])\n",
        "\n",
        "print(np.split(z , 7))\n",
        "print(np.array_split(z , 4))"
      ]
    },
    {
      "cell_type": "code",
      "execution_count": null,
      "metadata": {
        "colab": {
          "base_uri": "https://localhost:8080/"
        },
        "id": "DMU4dDCUpSpD",
        "outputId": "c2a9c3ba-6883-4589-d5e5-22a24dd88f8a"
      },
      "outputs": [
        {
          "name": "stdout",
          "output_type": "stream",
          "text": [
            "[1 2 1 2 1 2 1 2]\n",
            "[1 1 1 1 2 2 2 2]\n"
          ]
        }
      ],
      "source": [
        "a = np.array([1, 2])\n",
        "\n",
        "print(np.tile(a , 4))\n",
        "print(np.repeat(a , 4))"
      ]
    },
    {
      "cell_type": "code",
      "execution_count": null,
      "metadata": {
        "colab": {
          "base_uri": "https://localhost:8080/"
        },
        "id": "lw3uhJ3ipjit",
        "outputId": "1210ef13-9ab1-4fa8-8421-57d1f6f76c4b"
      },
      "outputs": [
        {
          "name": "stdout",
          "output_type": "stream",
          "text": [
            "[0 1 2 3]\n",
            "\n",
            "[[0 1 2 3 0 1 2 3]\n",
            " [0 1 2 3 0 1 2 3]\n",
            " [0 1 2 3 0 1 2 3]]\n"
          ]
        }
      ],
      "source": [
        "a = np.arange(4)\n",
        "print(a)\n",
        "print()\n",
        "result = np.tile(a, (3, 2))\n",
        "print(result)"
      ]
    },
    {
      "cell_type": "code",
      "execution_count": null,
      "metadata": {
        "colab": {
          "base_uri": "https://localhost:8080/"
        },
        "id": "p2IAMvIdqJTh",
        "outputId": "52218026-9927-4180-bb22-1cf40a2fb6c9"
      },
      "outputs": [
        {
          "data": {
            "text/plain": [
              "array([[0, 1, 2, 3],\n",
              "       [0, 1, 2, 3],\n",
              "       [0, 1, 2, 3]])"
            ]
          },
          "execution_count": 70,
          "metadata": {},
          "output_type": "execute_result"
        }
      ],
      "source": [
        "a = np.arange(4)\n",
        "# result = np.repeat(a[np.newaxis, :], 3, axis=0)\n",
        "# print(result)\n",
        "np.repeat(a[np.newaxis, :] , 3 , axis = 0)"
      ]
    },
    {
      "cell_type": "code",
      "execution_count": null,
      "metadata": {
        "colab": {
          "base_uri": "https://localhost:8080/"
        },
        "id": "zKyG2faTqc8Y",
        "outputId": "ec806a22-bc9b-4641-b7b4-677a4d047602"
      },
      "outputs": [
        {
          "data": {
            "text/plain": [
              "array([[0, 1, 2, 3, 4],\n",
              "       [0, 1, 2, 3, 4],\n",
              "       [0, 1, 2, 3, 4],\n",
              "       [0, 1, 2, 3, 4]])"
            ]
          },
          "execution_count": 84,
          "metadata": {},
          "output_type": "execute_result"
        }
      ],
      "source": [
        "np.tile(np.arange(5) ,(4 , 1))"
      ]
    },
    {
      "cell_type": "code",
      "execution_count": null,
      "metadata": {
        "colab": {
          "base_uri": "https://localhost:8080/"
        },
        "id": "kr4nly_rq7lH",
        "outputId": "b8fd1abd-1135-4419-c007-0eb3ebccf7c8"
      },
      "outputs": [
        {
          "data": {
            "text/plain": [
              "array([[0, 1, 2, 3, 4],\n",
              "       [0, 1, 2, 3, 4],\n",
              "       [0, 1, 2, 3, 4],\n",
              "       [0, 1, 2, 3, 4],\n",
              "       [0, 1, 2, 3, 4]])"
            ]
          },
          "execution_count": 87,
          "metadata": {},
          "output_type": "execute_result"
        }
      ],
      "source": [
        "np.tile(np.arange(5) ,(5 , 1))"
      ]
    },
    {
      "cell_type": "code",
      "execution_count": null,
      "metadata": {
        "colab": {
          "base_uri": "https://localhost:8080/"
        },
        "id": "tj22Y1x2r3WM",
        "outputId": "5c5c7b9c-c18e-4f91-aaa9-f4fe35fbc5cd"
      },
      "outputs": [
        {
          "data": {
            "text/plain": [
              "array([[0],\n",
              "       [1],\n",
              "       [2],\n",
              "       [3],\n",
              "       [0],\n",
              "       [1],\n",
              "       [2],\n",
              "       [3],\n",
              "       [0],\n",
              "       [1],\n",
              "       [2],\n",
              "       [3],\n",
              "       [0],\n",
              "       [1],\n",
              "       [2],\n",
              "       [3],\n",
              "       [0],\n",
              "       [1],\n",
              "       [2],\n",
              "       [3]])"
            ]
          },
          "execution_count": 93,
          "metadata": {},
          "output_type": "execute_result"
        }
      ],
      "source": [
        "np.tile(np.arange(4)[:, np.newaxis], (5,1))"
      ]
    },
    {
      "cell_type": "code",
      "execution_count": null,
      "metadata": {
        "colab": {
          "base_uri": "https://localhost:8080/"
        },
        "id": "u_v8sPzEr_Wt",
        "outputId": "e7931427-2457-4697-9df8-2cf3336cb878"
      },
      "outputs": [
        {
          "data": {
            "text/plain": [
              "(4,)"
            ]
          },
          "execution_count": 99,
          "metadata": {},
          "output_type": "execute_result"
        }
      ],
      "source": [
        "np.arange(4).shape"
      ]
    },
    {
      "cell_type": "code",
      "execution_count": null,
      "metadata": {
        "colab": {
          "base_uri": "https://localhost:8080/"
        },
        "id": "xy5lxnI5sXhE",
        "outputId": "f0f6c6bf-f471-4721-ec7d-19d4c4ea96f9"
      },
      "outputs": [
        {
          "data": {
            "text/plain": [
              "(4, 1)"
            ]
          },
          "execution_count": 98,
          "metadata": {},
          "output_type": "execute_result"
        }
      ],
      "source": [
        "np.arange(4)[: , np.newaxis].shape"
      ]
    },
    {
      "cell_type": "code",
      "execution_count": null,
      "metadata": {
        "colab": {
          "base_uri": "https://localhost:8080/"
        },
        "id": "c_JBqi7BsZOX",
        "outputId": "1f6f25ee-242e-46f8-c495-9a8d130ebdd4"
      },
      "outputs": [
        {
          "data": {
            "text/plain": [
              "array([[0, 0, 0, 0],\n",
              "       [1, 1, 1, 1],\n",
              "       [2, 2, 2, 2],\n",
              "       [3, 3, 3, 3]])"
            ]
          },
          "execution_count": 100,
          "metadata": {},
          "output_type": "execute_result"
        }
      ],
      "source": [
        "np.tile(np.arange(4)[: , np.newaxis] , 4)"
      ]
    },
    {
      "cell_type": "code",
      "execution_count": null,
      "metadata": {
        "colab": {
          "base_uri": "https://localhost:8080/",
          "height": 141
        },
        "id": "mpPfLFwKsp_c",
        "outputId": "7ef44b5b-45dc-4ed7-ac60-48af7c6fbefa"
      },
      "outputs": [
        {
          "ename": "TypeError",
          "evalue": "tile() got an unexpected keyword argument 'axis'",
          "output_type": "error",
          "traceback": [
            "\u001b[0;31m---------------------------------------------------------------------------\u001b[0m",
            "\u001b[0;31mTypeError\u001b[0m                                 Traceback (most recent call last)",
            "\u001b[0;32m/tmp/ipython-input-104-1461477766.py\u001b[0m in \u001b[0;36m<cell line: 0>\u001b[0;34m()\u001b[0m\n\u001b[0;32m----> 1\u001b[0;31m \u001b[0mnp\u001b[0m\u001b[0;34m.\u001b[0m\u001b[0mtile\u001b[0m\u001b[0;34m(\u001b[0m\u001b[0mnp\u001b[0m\u001b[0;34m.\u001b[0m\u001b[0marange\u001b[0m\u001b[0;34m(\u001b[0m\u001b[0;36m5\u001b[0m\u001b[0;34m)\u001b[0m \u001b[0;34m,\u001b[0m \u001b[0;34m(\u001b[0m\u001b[0;36m4\u001b[0m \u001b[0;34m,\u001b[0m \u001b[0;36m1\u001b[0m\u001b[0;34m)\u001b[0m \u001b[0;34m,\u001b[0m \u001b[0maxis\u001b[0m \u001b[0;34m=\u001b[0m \u001b[0;36m0\u001b[0m\u001b[0;34m)\u001b[0m\u001b[0;34m\u001b[0m\u001b[0;34m\u001b[0m\u001b[0m\n\u001b[0m",
            "\u001b[0;31mTypeError\u001b[0m: tile() got an unexpected keyword argument 'axis'"
          ]
        }
      ],
      "source": [
        "np.tile(np.arange(5) , (4 , 1) )"
      ]
    },
    {
      "cell_type": "code",
      "execution_count": null,
      "metadata": {
        "colab": {
          "base_uri": "https://localhost:8080/"
        },
        "id": "kvN50rEtuRFg",
        "outputId": "387e278e-5804-4ef8-db15-3a9589b500c4"
      },
      "outputs": [
        {
          "data": {
            "text/plain": [
              "array([[0, 1, 2, 3, 4],\n",
              "       [0, 1, 2, 3, 4],\n",
              "       [0, 1, 2, 3, 4],\n",
              "       [0, 1, 2, 3, 4]])"
            ]
          },
          "execution_count": 114,
          "metadata": {},
          "output_type": "execute_result"
        }
      ],
      "source": [
        "np.tile(np.arange(5) , (4 , 1))"
      ]
    },
    {
      "cell_type": "code",
      "execution_count": null,
      "metadata": {
        "colab": {
          "base_uri": "https://localhost:8080/"
        },
        "id": "qpwn4yGUuZ9u",
        "outputId": "6cd65c07-2b44-47c0-b1bf-743c22dc13eb"
      },
      "outputs": [
        {
          "data": {
            "text/plain": [
              "array([-1, -1, -1, -1, -1,  6,  7,  8])"
            ]
          },
          "execution_count": 115,
          "metadata": {},
          "output_type": "execute_result"
        }
      ],
      "source": [
        "a= np.array([1, 2 , 3 ,4, 5, 6 ,7 , 8])\n",
        "np.where(a>5 , a  , -1)"
      ]
    },
    {
      "cell_type": "code",
      "execution_count": null,
      "metadata": {
        "colab": {
          "base_uri": "https://localhost:8080/"
        },
        "id": "1lCfJ5E3vAge",
        "outputId": "979c13d4-fef1-446b-9679-6e0d91f34ca0"
      },
      "outputs": [
        {
          "data": {
            "text/plain": [
              "array([[0, 1, 2],\n",
              "       [0, 1, 2]])"
            ]
          },
          "execution_count": 119,
          "metadata": {},
          "output_type": "execute_result"
        }
      ],
      "source": [
        "a = np.array([0, 1, 2])\n",
        "np.tile(a, (2 , 1))"
      ]
    },
    {
      "cell_type": "code",
      "execution_count": null,
      "metadata": {
        "colab": {
          "base_uri": "https://localhost:8080/"
        },
        "id": "2-H6qyOevOfF",
        "outputId": "65297f8e-4425-4548-f8c2-5ed46e6ddade"
      },
      "outputs": [
        {
          "data": {
            "text/plain": [
              "array([5, 5, 6, 6])"
            ]
          },
          "execution_count": 120,
          "metadata": {},
          "output_type": "execute_result"
        }
      ],
      "source": [
        "b = np.array([5 , 6])\n",
        "np.repeat(b , 2)"
      ]
    },
    {
      "cell_type": "code",
      "execution_count": null,
      "metadata": {
        "colab": {
          "base_uri": "https://localhost:8080/"
        },
        "id": "lDNw4WnOvZxW",
        "outputId": "70befdfa-ee18-4edd-e7e3-051e6570482d"
      },
      "outputs": [
        {
          "data": {
            "text/plain": [
              "array([[1, 1],\n",
              "       [2, 2],\n",
              "       [3, 3]])"
            ]
          },
          "execution_count": 125,
          "metadata": {},
          "output_type": "execute_result"
        }
      ],
      "source": [
        "a = np.array([1, 2, 3])\n",
        "np.repeat(a[: , np.newaxis] , 2 , axis = 1)"
      ]
    },
    {
      "cell_type": "code",
      "execution_count": null,
      "metadata": {
        "colab": {
          "base_uri": "https://localhost:8080/"
        },
        "id": "uWqKrVfcvtlT",
        "outputId": "de8185a2-7cf4-4bb2-e27b-950b3c2f06ef"
      },
      "outputs": [
        {
          "data": {
            "text/plain": [
              "array([[10, 20, 30]])"
            ]
          },
          "execution_count": 126,
          "metadata": {},
          "output_type": "execute_result"
        }
      ],
      "source": [
        "x = np.array([10, 20, 30])\n",
        "\n",
        "\n",
        "x[np.newaxis , :]"
      ]
    },
    {
      "cell_type": "code",
      "execution_count": null,
      "metadata": {
        "colab": {
          "base_uri": "https://localhost:8080/"
        },
        "id": "iUP7VU4OwcUe",
        "outputId": "06db0ddb-661f-4c5b-e353-7fcc1f6f9664"
      },
      "outputs": [
        {
          "data": {
            "text/plain": [
              "array([[10],\n",
              "       [20],\n",
              "       [30]])"
            ]
          },
          "execution_count": 127,
          "metadata": {},
          "output_type": "execute_result"
        }
      ],
      "source": [
        "x[:  , np.newaxis]"
      ]
    },
    {
      "cell_type": "code",
      "execution_count": null,
      "metadata": {
        "colab": {
          "base_uri": "https://localhost:8080/"
        },
        "id": "T37_ZxjOweoP",
        "outputId": "6b304434-2342-4ecc-e59a-1d2ed2a6889e"
      },
      "outputs": [
        {
          "data": {
            "text/plain": [
              "array([[1, 1],\n",
              "       [2, 2],\n",
              "       [3, 3]])"
            ]
          },
          "execution_count": 131,
          "metadata": {},
          "output_type": "execute_result"
        }
      ],
      "source": [
        "a = np.array([1, 2, 3])\n",
        "\n",
        "\n",
        "np.repeat(a[: , np.newaxis] , 2 , axis = 1)"
      ]
    },
    {
      "cell_type": "code",
      "execution_count": null,
      "metadata": {
        "id": "pkIulHHlwpS9"
      },
      "outputs": [],
      "source": [
        "a = np.array([1, 2, 3])\n",
        "b = a[np.newaxis , :]"
      ]
    },
    {
      "cell_type": "code",
      "execution_count": null,
      "metadata": {
        "colab": {
          "base_uri": "https://localhost:8080/"
        },
        "id": "VktHgTqOxAGj",
        "outputId": "ca779613-81fb-43c3-e3ae-99a8580388cc"
      },
      "outputs": [
        {
          "name": "stdout",
          "output_type": "stream",
          "text": [
            "[[1]\n",
            " [2]\n",
            " [3]]\n"
          ]
        }
      ],
      "source": [
        "c = a[: , np.newaxis]\n",
        "print(c)"
      ]
    },
    {
      "cell_type": "code",
      "execution_count": null,
      "metadata": {
        "colab": {
          "base_uri": "https://localhost:8080/"
        },
        "id": "w7JhLOtaxDJU",
        "outputId": "5ee264e5-520a-444a-a5db-1b124a728540"
      },
      "outputs": [
        {
          "data": {
            "text/plain": [
              "array([[1, 2, 3],\n",
              "       [2, 4, 6],\n",
              "       [3, 6, 9]])"
            ]
          },
          "execution_count": 137,
          "metadata": {},
          "output_type": "execute_result"
        }
      ],
      "source": [
        "b*c"
      ]
    },
    {
      "cell_type": "markdown",
      "metadata": {
        "id": "fEThjkIVb8Jy"
      },
      "source": [
        "## Sorting and Searching"
      ]
    },
    {
      "cell_type": "code",
      "execution_count": null,
      "metadata": {
        "colab": {
          "base_uri": "https://localhost:8080/"
        },
        "id": "lRmlApz6xJ4q",
        "outputId": "7e883011-106b-4222-bb47-de8b1d3f784b"
      },
      "outputs": [
        {
          "name": "stdout",
          "output_type": "stream",
          "text": [
            "[[8 3 1]\n",
            " [4 9 2]]\n",
            "\n",
            "[[1 3 8]\n",
            " [2 4 9]]\n",
            "\n",
            "[[4 3 1]\n",
            " [8 9 2]]\n",
            "\n",
            "[[1 3 8]\n",
            " [2 4 9]]\n"
          ]
        }
      ],
      "source": [
        "a = np.array([[8, 3, 1], [4, 9, 2]])\n",
        "print(a)\n",
        "print()\n",
        "print(np.sort(a))\n",
        "print()\n",
        "print(np.sort(a , axis = 0))\n",
        "print()\n",
        "print(np.sort(a , axis = 1))"
      ]
    },
    {
      "cell_type": "code",
      "execution_count": null,
      "metadata": {
        "colab": {
          "base_uri": "https://localhost:8080/"
        },
        "id": "PF3Wn517cBVa",
        "outputId": "ac8d041b-190b-497d-c0bf-bf61aee5a548"
      },
      "outputs": [
        {
          "name": "stdout",
          "output_type": "stream",
          "text": [
            "[1 3 2 0]\n",
            "[10 20 30 40]\n"
          ]
        }
      ],
      "source": [
        "a = np.array([40, 10, 30, 20])\n",
        "y =  np.argsort(a)\n",
        "print(y)\n",
        "x = np.array([a[i] for i in np.argsort(a)])\n",
        "print(x)"
      ]
    },
    {
      "cell_type": "code",
      "execution_count": null,
      "metadata": {
        "colab": {
          "base_uri": "https://localhost:8080/"
        },
        "id": "J1uZvob_cpkT",
        "outputId": "1dfc9ab4-4e6a-4172-a447-aa95d23c28ae"
      },
      "outputs": [
        {
          "data": {
            "text/plain": [
              "array([10, 20, 30, 40])"
            ]
          },
          "execution_count": 17,
          "metadata": {},
          "output_type": "execute_result"
        }
      ],
      "source": [
        "a[np.argsort(a)]"
      ]
    },
    {
      "cell_type": "code",
      "execution_count": null,
      "metadata": {
        "colab": {
          "base_uri": "https://localhost:8080/"
        },
        "id": "ucGnfQL1dlFj",
        "outputId": "15301e07-3f6c-41fc-ac70-109dee091aa0"
      },
      "outputs": [
        {
          "name": "stdout",
          "output_type": "stream",
          "text": [
            "(array([0, 3, 5]),)\n"
          ]
        },
        {
          "data": {
            "text/plain": [
              "array([12, 20, 13])"
            ]
          },
          "execution_count": 21,
          "metadata": {},
          "output_type": "execute_result"
        }
      ],
      "source": [
        "a = np.array([12, 7, 5, 20, 4, 13])\n",
        "print(np.where(a > 10))\n",
        "a[np.where(a>10)]"
      ]
    },
    {
      "cell_type": "code",
      "execution_count": null,
      "metadata": {
        "colab": {
          "base_uri": "https://localhost:8080/"
        },
        "id": "VAxF5d-Td5jq",
        "outputId": "b7866dd2-c128-4097-8f4c-e7f141f767f3"
      },
      "outputs": [
        {
          "data": {
            "text/plain": [
              "(array([1, 3, 5]),)"
            ]
          },
          "execution_count": 23,
          "metadata": {},
          "output_type": "execute_result"
        }
      ],
      "source": [
        "a = np.array([0, 3, 0, 7, 0, 1])\n",
        "np.nonzero(a)"
      ]
    },
    {
      "cell_type": "code",
      "execution_count": null,
      "metadata": {
        "colab": {
          "base_uri": "https://localhost:8080/"
        },
        "id": "mrQNQxM9ePSv",
        "outputId": "b13480c8-a752-4b86-f72e-68931068d151"
      },
      "outputs": [
        {
          "data": {
            "text/plain": [
              "array([[0, 1],\n",
              "       [1, 1],\n",
              "       [1, 2]])"
            ]
          },
          "execution_count": 24,
          "metadata": {},
          "output_type": "execute_result"
        }
      ],
      "source": [
        "a = np.array([[2, 4, 0],\n",
        "              [0, 5, 3]])\n",
        "\n",
        "np.argwhere(a > 2)"
      ]
    },
    {
      "cell_type": "code",
      "execution_count": null,
      "metadata": {
        "colab": {
          "base_uri": "https://localhost:8080/"
        },
        "id": "gy2NKP4DehPH",
        "outputId": "41ffc5d6-fcbd-4cd5-ce01-52ffe8eb88af"
      },
      "outputs": [
        {
          "name": "stderr",
          "output_type": "stream",
          "text": [
            "/tmp/ipython-input-28-2594992298.py:4: DeprecationWarning: `in1d` is deprecated. Use `np.isin` instead.\n",
            "  np.in1d(a , b)\n"
          ]
        },
        {
          "data": {
            "text/plain": [
              "array([False,  True, False,  True, False])"
            ]
          },
          "execution_count": 28,
          "metadata": {},
          "output_type": "execute_result"
        }
      ],
      "source": [
        "a = np.array([1, 2, 3, 4, 5])\n",
        "b = np.array([2, 4])\n",
        "\n",
        "np.in1d(a , b)"
      ]
    },
    {
      "cell_type": "code",
      "execution_count": null,
      "metadata": {
        "colab": {
          "base_uri": "https://localhost:8080/"
        },
        "id": "xW6TzW7wfE-n",
        "outputId": "d318636b-f15b-4bf9-f304-73569f290b5e"
      },
      "outputs": [
        {
          "data": {
            "text/plain": [
              "(array([1, 2, 3, 4]), array([1, 2, 3, 1]))"
            ]
          },
          "execution_count": 30,
          "metadata": {},
          "output_type": "execute_result"
        }
      ],
      "source": [
        "a = np.array([1, 2, 2, 3, 3, 3, 4])\n",
        "\n",
        "np.unique(a , return_counts= True)"
      ]
    },
    {
      "cell_type": "code",
      "execution_count": null,
      "metadata": {
        "colab": {
          "base_uri": "https://localhost:8080/"
        },
        "id": "1PUws71vfYFl",
        "outputId": "2be30186-8fa6-4fb5-d2d0-6a2b71e79188"
      },
      "outputs": [
        {
          "data": {
            "text/plain": [
              "7"
            ]
          },
          "execution_count": 31,
          "metadata": {},
          "output_type": "execute_result"
        }
      ],
      "source": [
        "a.size"
      ]
    },
    {
      "cell_type": "code",
      "execution_count": null,
      "metadata": {
        "colab": {
          "base_uri": "https://localhost:8080/"
        },
        "id": "z85IzleMf0-w",
        "outputId": "73b4137e-d17e-4783-9915-bccb5bfdc0a6"
      },
      "outputs": [
        {
          "data": {
            "text/plain": [
              "8"
            ]
          },
          "execution_count": 34,
          "metadata": {},
          "output_type": "execute_result"
        }
      ],
      "source": [
        "a.itemsize"
      ]
    },
    {
      "cell_type": "code",
      "execution_count": null,
      "metadata": {
        "colab": {
          "base_uri": "https://localhost:8080/"
        },
        "id": "r8y4z0F7gJpb",
        "outputId": "e8b4edf0-070d-488d-f25a-0b91c7d53c39"
      },
      "outputs": [
        {
          "data": {
            "text/plain": [
              "array([2, 3, 6])"
            ]
          },
          "execution_count": 45,
          "metadata": {},
          "output_type": "execute_result"
        }
      ],
      "source": [
        "a =np.array( [1 , 2 ,3 , 4 , 5, 6])\n",
        "a[ [1 , 2 , 5] ]"
      ]
    },
    {
      "cell_type": "code",
      "execution_count": null,
      "metadata": {
        "colab": {
          "base_uri": "https://localhost:8080/"
        },
        "id": "QRjNTnvsf3JZ",
        "outputId": "e4126abe-2b63-4900-cf9f-88539be911f9"
      },
      "outputs": [
        {
          "name": "stdout",
          "output_type": "stream",
          "text": [
            "[2 4]\n"
          ]
        },
        {
          "data": {
            "text/plain": [
              "(2,)"
            ]
          },
          "execution_count": 50,
          "metadata": {},
          "output_type": "execute_result"
        }
      ],
      "source": [
        "print(b)\n",
        "b.shape"
      ]
    },
    {
      "cell_type": "code",
      "execution_count": null,
      "metadata": {
        "colab": {
          "base_uri": "https://localhost:8080/"
        },
        "id": "U3xW2EPvhMFi",
        "outputId": "eba55cfe-a6a9-484f-80d7-0b0a69925fa0"
      },
      "outputs": [
        {
          "data": {
            "text/plain": [
              "(2, 4)"
            ]
          },
          "execution_count": 47,
          "metadata": {},
          "output_type": "execute_result"
        }
      ],
      "source": [
        "a = np.array([[1 , 2 , 3 , 4], [5 , 6 , 7 , 8]])\n",
        "a.shape"
      ]
    },
    {
      "cell_type": "code",
      "execution_count": null,
      "metadata": {
        "colab": {
          "base_uri": "https://localhost:8080/"
        },
        "id": "O_y5oEMehOws",
        "outputId": "bef142d7-41fd-4658-b36c-78f993f59516"
      },
      "outputs": [
        {
          "data": {
            "text/plain": [
              "array([[[2]],\n",
              "\n",
              "       [[4]]])"
            ]
          },
          "execution_count": 57,
          "metadata": {},
          "output_type": "execute_result"
        }
      ],
      "source": [
        "b = b[: , np.newaxis]\n",
        "b"
      ]
    },
    {
      "cell_type": "code",
      "execution_count": null,
      "metadata": {
        "colab": {
          "base_uri": "https://localhost:8080/"
        },
        "id": "nxiR1tOnhhAF",
        "outputId": "4426f483-49aa-4ec4-ed61-e14e64e13e89"
      },
      "outputs": [
        {
          "data": {
            "text/plain": [
              "array([[ 3,  4,  5,  6],\n",
              "       [ 9, 10, 11, 12]])"
            ]
          },
          "execution_count": 56,
          "metadata": {},
          "output_type": "execute_result"
        }
      ],
      "source": [
        "a+b"
      ]
    },
    {
      "cell_type": "code",
      "execution_count": null,
      "metadata": {
        "colab": {
          "base_uri": "https://localhost:8080/"
        },
        "id": "8ZQ0MEorhrJ9",
        "outputId": "1d0e4b93-0d06-4d01-f82b-f0dfe901869a"
      },
      "outputs": [
        {
          "data": {
            "text/plain": [
              "array(['Mar', 'Feb', 'Apr'], dtype='<U3')"
            ]
          },
          "execution_count": 94,
          "metadata": {},
          "output_type": "execute_result"
        }
      ],
      "source": [
        "sales = np.array([120, 80, 95, 60, 150, 200, 110])\n",
        "months = np.array([\"Jan\", \"Feb\", \"Mar\", \"Apr\", \"May\", \"Jun\", \"Jul\"])\n",
        "\n",
        "sorted = np.where(sales < 100)\n",
        "sort_bottom_to_head = np.sort(months[ sorted ] )\n",
        "sort_bottom_to_head[::-1]"
      ]
    },
    {
      "cell_type": "code",
      "execution_count": null,
      "metadata": {
        "colab": {
          "base_uri": "https://localhost:8080/"
        },
        "id": "RyJWl5ZaiMUj",
        "outputId": "fbc25e5c-0572-45a3-b866-e777f9efd5ca"
      },
      "outputs": [
        {
          "name": "stdout",
          "output_type": "stream",
          "text": [
            "[80 95 60]\n",
            "['Feb' 'Mar' 'Apr']\n",
            "[2 0 1]\n",
            "['Apr' 'Feb' 'Mar']\n"
          ]
        }
      ],
      "source": [
        "sales = np.array([120, 80, 95, 60, 150, 200, 110])\n",
        "months = np.array([\"Jan\", \"Feb\", \"Mar\", \"Apr\", \"May\", \"Jun\", \"Jul\"])\n",
        "\n",
        "\n",
        "filtered_sales = sales[sales<100]\n",
        "print(filtered_sales)\n",
        "filtered_months = months[sales<100]\n",
        "print(filtered_months)\n",
        "idx = np.argsort(filtered_sales)\n",
        "print(idx)\n",
        "result = filtered_months[idx]\n",
        "print(result)"
      ]
    },
    {
      "cell_type": "code",
      "execution_count": null,
      "metadata": {
        "colab": {
          "base_uri": "https://localhost:8080/"
        },
        "id": "uW8SVDeilbx5",
        "outputId": "eb77f03b-d300-4fb6-ff73-780e8f888252"
      },
      "outputs": [
        {
          "name": "stdout",
          "output_type": "stream",
          "text": [
            "[[58 76 14 18 52 54]\n",
            " [23 37 87 42 37 98]\n",
            " [74 24 24 54 33 51]\n",
            " [49 16 28 13 14 83]\n",
            " [72 15 10 87 94 62]\n",
            " [17 91 98 57 68 24]]\n",
            "[58 76 52 54 98 74 54 72 94 62 98 68]\n"
          ]
        }
      ],
      "source": [
        "array = np.random.randint(10 , 99 , size=(6 , 6))\n",
        "array_mean = np.mean(array)\n",
        "print(array)\n",
        "result = array[(array > array_mean) & (array % 2 == 0)]\n",
        "print(result)"
      ]
    },
    {
      "cell_type": "code",
      "execution_count": null,
      "metadata": {
        "colab": {
          "base_uri": "https://localhost:8080/"
        },
        "id": "jLVpWOCP6KKi",
        "outputId": "146bdbd6-39a0-4a1c-9c84-de20bc0ce280"
      },
      "outputs": [
        {
          "name": "stdout",
          "output_type": "stream",
          "text": [
            "[[1]\n",
            " [2]\n",
            " [3]\n",
            " [4]]\n",
            "[[1 2 3 4]]\n",
            "[[ 1  2  3  4]\n",
            " [ 2  4  6  8]\n",
            " [ 3  6  9 12]\n",
            " [ 4  8 12 16]]\n"
          ]
        }
      ],
      "source": [
        "array = np.array([1 , 2 , 3, 4])\n",
        "array1 = array[: , np.newaxis]\n",
        "array2 = array[np.newaxis , :]\n",
        "print(array1)\n",
        "print(array2)\n",
        "print(array1 * array2)"
      ]
    },
    {
      "cell_type": "code",
      "execution_count": null,
      "metadata": {
        "colab": {
          "base_uri": "https://localhost:8080/"
        },
        "id": "WSS_1nOH72ss",
        "outputId": "3962de68-66e3-44a7-cc72-cc5f7af2d62e"
      },
      "outputs": [
        {
          "name": "stdout",
          "output_type": "stream",
          "text": [
            "[31 69 58 39 96 88 36 42 35 81]\n",
            "[31 35 36 39 42 58 69 81 88 96]\n",
            "[0 8 6 3 7 2 1 9 5 4]\n"
          ]
        },
        {
          "data": {
            "text/plain": [
              "array([31, 35, 36, 39, 42, 58, 69, 81, 88, 96])"
            ]
          },
          "execution_count": 32,
          "metadata": {},
          "output_type": "execute_result"
        }
      ],
      "source": [
        "array = np.random.randint(1 , 100 , 10)\n",
        "print(array)\n",
        "sorted_array = np.sort(array)\n",
        "print(sorted_array)\n",
        "argsorted_array = np.argsort(array)\n",
        "print(argsorted_array)\n",
        "array[np.argsort(array)]"
      ]
    },
    {
      "cell_type": "code",
      "execution_count": null,
      "metadata": {
        "colab": {
          "base_uri": "https://localhost:8080/"
        },
        "id": "13Xog1lm8ghE",
        "outputId": "60df8849-97fd-46cd-cf8e-39a06a45abc2"
      },
      "outputs": [
        {
          "name": "stdout",
          "output_type": "stream",
          "text": [
            "[0 3 5 4 2 2 1 2 6 9 5 4]\n",
            "[100   3   5   4   2   2   1   2   6   9   5   4]\n"
          ]
        },
        {
          "data": {
            "text/plain": [
              "array([100,   3,   5,   4,   2,   2,   1,   2,   6,   9,   5,   4])"
            ]
          },
          "execution_count": 44,
          "metadata": {},
          "output_type": "execute_result"
        }
      ],
      "source": [
        "array = np.random.randint(0, 10 , 12)\n",
        "print(array)\n",
        "array[array == 0] = 100\n",
        "print(array)\n",
        "np.where(array == 0 , 100 , array)"
      ]
    },
    {
      "cell_type": "code",
      "execution_count": null,
      "metadata": {
        "colab": {
          "base_uri": "https://localhost:8080/"
        },
        "id": "_L-1h8tM9T-u",
        "outputId": "a2487856-b3f0-45a4-a472-69025c967026"
      },
      "outputs": [
        {
          "name": "stdout",
          "output_type": "stream",
          "text": [
            "[[12  2 13  5]\n",
            " [ 2 12 16 16]\n",
            " [ 4 19  5 15]\n",
            " [ 8 11 13  7]\n",
            " [17 16 16 12]\n",
            " [10  7 10  3]]\n",
            "[32 46 43 39 61 30]\n",
            "[ 8.83333333 11.16666667 12.16666667  9.66666667]\n"
          ]
        }
      ],
      "source": [
        "array = np.random.randint(1 , 20 , size = (6 , 4))\n",
        "print(array)\n",
        "sum_each_row = np.sum(array , axis = 1)\n",
        "mean_each_column = np.mean(array , axis = 0)\n",
        "print(sum_each_row)\n",
        "idx=np.argmin(sum_each_row)\n",
        "array_min= array[idx , :]\n",
        "print(mean_each_column)"
      ]
    },
    {
      "cell_type": "code",
      "execution_count": null,
      "metadata": {
        "colab": {
          "base_uri": "https://localhost:8080/"
        },
        "id": "Wp_rSkgQ-R8M",
        "outputId": "8c0be5f4-6d8b-4f11-bda8-a90dc4c19d14"
      },
      "outputs": [
        {
          "name": "stdout",
          "output_type": "stream",
          "text": [
            "scores:\n",
            " [[12 15  5 11  8  2]\n",
            " [ 6 17  5  7 10 19]\n",
            " [ 5  9 15 18  8 19]\n",
            " [ 8 13  0  6  6 16]\n",
            " [19  4  8  0 10  5]]\n",
            "each student average in 6 lesson : \n",
            " [ 8.83333333 10.66666667 12.33333333  8.16666667  7.66666667]\n",
            "highest mean student scores : \n",
            " [ 5  9 15 18  8 19]\n",
            "\n",
            "each lesson average from 5 student : \n",
            " [10.  11.6  6.6  8.4  8.4 12.2]\n",
            "lowest mean lesson scores: \n",
            " [ 5  5 15  0  8]\n",
            "\n",
            "[5 8 2 6 5 7 5 9 8 8 0 6 6 4 8 0 5]\n",
            "number of scores under 10:\n",
            " 17\n",
            "number of all scores: \n",
            " 30\n",
            "scale of under ten scores: \n",
            " 56.67 %\n"
          ]
        }
      ],
      "source": [
        "scores = np.random.randint(0 , 20 , size = (5 , 6))\n",
        "print('scores:\\n' , scores)\n",
        "mean_each_student = np.mean(scores , axis = 1)\n",
        "print('each student average in 6 lesson : \\n' , mean_each_student)\n",
        "highest_mean_student_idx = np.argmax(mean_each_student)\n",
        "highest_mean_student = scores[highest_mean_student_idx , :]\n",
        "print(\"highest mean student scores : \\n\" , highest_mean_student)\n",
        "# -------------------------\n",
        "print()\n",
        "mean_each_lesson= np.mean(scores , axis = 0 )\n",
        "print('each lesson average from 5 student : \\n' , mean_each_lesson)\n",
        "lowest_mean_lesson_idx = np.argmin(mean_each_lesson)\n",
        "lowest_mean_lesson = scores[: , lowest_mean_lesson_idx]\n",
        "print('lowest mean lesson scores: \\n' , lowest_mean_lesson)\n",
        "# --------------------------\n",
        "print()\n",
        "scores_under_10 = scores[scores < 10]\n",
        "print(scores_under_10)\n",
        "number_of_scores_under_10 = len(scores_under_10)\n",
        "number_of_total = len(scores.flatten())\n",
        "print('number of scores under 10:\\n' , number_of_scores_under_10)\n",
        "print('number of all scores: \\n' , number_of_total)\n",
        "scale_of_under_ten =( number_of_scores_under_10 / number_of_total)*100\n",
        "print(f'scale of under ten scores: \\n {scale_of_under_ten:.2f} %')"
      ]
    },
    {
      "cell_type": "code",
      "execution_count": 127,
      "metadata": {
        "colab": {
          "base_uri": "https://localhost:8080/"
        },
        "id": "PLp2kRVhCP6N",
        "outputId": "4438d644-f860-4cd7-a16b-bcb3bdc89622"
      },
      "outputs": [
        {
          "output_type": "stream",
          "name": "stdout",
          "text": [
            "[[11 14 11 19 18]\n",
            " [ 1  9  6 15 14]\n",
            " [ 0 16  0 18 18]\n",
            " [ 6 10 13  9  1]\n",
            " [ 9 16  4  4 11]\n",
            " [14  3 15  5  2]\n",
            " [ 1 19  1 13 15]\n",
            " [13 17 13  1  4]]\n",
            "[14.6  9.  10.4  7.8  8.8  7.8  9.8  9.6]\n",
            "[0 3 2 3 3 3 2 2]\n",
            "(array([1, 2, 3, 4, 5, 6, 7]),)\n"
          ]
        },
        {
          "output_type": "execute_result",
          "data": {
            "text/plain": [
              "array([[[ 1,  9,  6, 15, 14],\n",
              "        [ 0, 16,  0, 18, 18],\n",
              "        [ 6, 10, 13,  9,  1],\n",
              "        [ 9, 16,  4,  4, 11],\n",
              "        [14,  3, 15,  5,  2],\n",
              "        [ 1, 19,  1, 13, 15],\n",
              "        [13, 17, 13,  1,  4]]])"
            ]
          },
          "metadata": {},
          "execution_count": 127
        }
      ],
      "source": [
        "scores = np.random.randint(0 , 20 , size = (8 , 5))\n",
        "print(scores)\n",
        "mean_studens = np.mean(scores , axis = 1)\n",
        "print(np.mean(scores , axis = 1))\n",
        "print(np.sum(scores < 10 , axis = 1))\n",
        "idx = np.where(np.sum(scores < 10 , axis = 1) >= 2)\n",
        "print(idx)\n",
        "scores[idx , :]\n"
      ]
    },
    {
      "cell_type": "code",
      "execution_count": null,
      "metadata": {
        "id": "qwWijW-YIEWe"
      },
      "outputs": [],
      "source": []
    }
  ],
  "metadata": {
    "colab": {
      "provenance": []
    },
    "kernelspec": {
      "display_name": "Python 3",
      "name": "python3"
    },
    "language_info": {
      "name": "python"
    }
  },
  "nbformat": 4,
  "nbformat_minor": 0
}